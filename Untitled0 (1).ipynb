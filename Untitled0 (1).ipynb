{
  "nbformat": 4,
  "nbformat_minor": 0,
  "metadata": {
    "colab": {
      "provenance": []
    },
    "kernelspec": {
      "name": "python3",
      "display_name": "Python 3"
    },
    "language_info": {
      "name": "python"
    }
  },
  "cells": [
    {
      "cell_type": "markdown",
      "source": [
        "1.Explain the key features of Python that make it a popular choice for programming\n",
        "\n",
        "Answer - Python is a highly popular programming language due to several key features that make it versatile, easy to learn, and powerful. Here are some of the key features that make it a popular choice for programming\n",
        "-Python’s syntax is clear and easy to read, which makes it an excellent choice for beginners.\n",
        "-This extensive library reduces the need to write code from scratch, speeding up the development process.\n",
        "-Python is an interpreted language,Object-Oriented and Functional Programming andCross-Platform Compatibility.\n",
        "\n",
        "2.Describe the role of predefined keywords in Python and provide examples of how they are used in a program.\n",
        "\n",
        "Answer - Predefined keywords in Python are reserved words that have special meanings and serve specific purposes in the language. These keywords define the syntax and structure of Python programs and cannot be used as identifiers (e.g., variable names, function names).Ex - False,None,True,and,as,assert,break,continue,elif,else,if,for,while,is,in,etc.\n",
        "\n",
        "3. Compare and contrast mutable and immutable objects in Python with examples.\n",
        "\n",
        "Answer - Mutable Objects-Mutable objects are those that can be changed after they are created.examples of mutable objects include lists, dictionaries, sets, and byte arrays.\n",
        "\n",
        "Immutable Objects - Immutable objects are those that cannot be changed once they are created.examples of immutable objects include integers, floats, strings, tuples.\n",
        "\n",
        "4. Discuss the different types of operators in Python and provide examples of how they are used.\n",
        "\n",
        "Answer - Python have a variety of operators that are used to perform operations on variables and values. They are -Arithmetic Operators,Bitwise Operators,Assignment Operators,Identity Operators,Comparison Operators,Logical Operators.\n",
        "\n",
        "5.  Explain the concept of typecasting in Python with examples.\n",
        "\n",
        "Answer - Typecasting, also known as type conversion, is the process of converting one data type to another. In Python, this can be done using built-in functions. Typecasting is useful when you need to perform operations that require data to be in a specific type. There are two types of typecasting in Python.\n",
        "-1. Implicit Type Casting - Implicit type casting is automatically performed by the Python interpreter without any explicit instruction from the programmer. This usually happens when Python automatically converts one data type to another to avoid data loss in expressions involving mixed types.\n",
        "\n",
        "2-Explicit Typecasting- Explicit typecasting (also known as type conversion) is done manually by the programmer using built-in functions to convert one data type to another. This type of typecasting must be specified explicitly in the code.\n",
        "\n",
        "\n",
        "6.  How do conditional statements work in Python? Illustrate with examples.\n",
        "\n",
        "Answer - Conditional statements in Python allow you to execute certain blocks of code based on specific conditions. The conditional statements in Python are if, elif, and else.\n",
        "7.  Describe the different types of loops in Python and their use cases with examples.\n",
        "\n",
        "Answer - In Python, there are primarily two types of loops: for loops and while loops.\n",
        "\n",
        "\n",
        "\n"
      ],
      "metadata": {
        "id": "hXaBvaJ67X2v"
      }
    },
    {
      "cell_type": "code",
      "source": [
        "#2nd\n",
        "#DESCRIBES THE ROLE OF PREDEFINED KEYWORD\n",
        "#IF,ELSE,ELIF ARE DEFINED\n",
        "x=10\n",
        "if x >0:\n",
        "  print(\"x is positive\")\n",
        "elif x==0:\n",
        "  print(\"x is zero\")\n",
        "else:\n",
        "  print(\"x is negative\")"
      ],
      "metadata": {
        "colab": {
          "base_uri": "https://localhost:8080/"
        },
        "id": "6DWE0Ghh9CKj",
        "outputId": "6dfa689d-2c2d-4949-a2c2-6b1a740efe01"
      },
      "execution_count": 2,
      "outputs": [
        {
          "output_type": "stream",
          "name": "stdout",
          "text": [
            "x is positive\n"
          ]
        }
      ]
    },
    {
      "cell_type": "code",
      "source": [
        "#some other key words\n",
        "for i in range(5):\n",
        "  if i == 3:\n",
        "    break\n",
        "  print(i)"
      ],
      "metadata": {
        "colab": {
          "base_uri": "https://localhost:8080/"
        },
        "id": "rN32FNw273Kq",
        "outputId": "df2a2f77-95d4-42e3-aea5-e2832a0d4554"
      },
      "execution_count": 3,
      "outputs": [
        {
          "output_type": "stream",
          "name": "stdout",
          "text": [
            "0\n",
            "1\n",
            "2\n"
          ]
        }
      ]
    },
    {
      "cell_type": "code",
      "source": [
        "j=0\n",
        "while j < 5:\n",
        "  j += 1\n",
        "  if j == 2:\n",
        "    continue\n",
        "  print(j)"
      ],
      "metadata": {
        "colab": {
          "base_uri": "https://localhost:8080/"
        },
        "id": "3i4E-0k2Ap6C",
        "outputId": "7924dfa3-d33e-4126-9609-b7aa86ae2bf5"
      },
      "execution_count": 9,
      "outputs": [
        {
          "output_type": "stream",
          "name": "stdout",
          "text": [
            "1\n",
            "3\n",
            "4\n",
            "5\n"
          ]
        }
      ]
    },
    {
      "cell_type": "code",
      "source": [
        "#2nd\n",
        "#mutable\n",
        "#list\n",
        "my_list= [1,2,3]\n",
        "my_list"
      ],
      "metadata": {
        "colab": {
          "base_uri": "https://localhost:8080/"
        },
        "id": "NM0DRlfSBRVZ",
        "outputId": "e6d0d61e-97fe-4b98-a82e-dd328b6ebb48"
      },
      "execution_count": 16,
      "outputs": [
        {
          "output_type": "execute_result",
          "data": {
            "text/plain": [
              "[1, 2, 3]"
            ]
          },
          "metadata": {},
          "execution_count": 16
        }
      ]
    },
    {
      "cell_type": "code",
      "source": [
        "my_list.append(\"shweta\")\n",
        "my_list"
      ],
      "metadata": {
        "colab": {
          "base_uri": "https://localhost:8080/"
        },
        "id": "hkTHdEJ3EAtI",
        "outputId": "d6c5daf8-7669-464d-e5e8-700808b196bc"
      },
      "execution_count": 19,
      "outputs": [
        {
          "output_type": "execute_result",
          "data": {
            "text/plain": [
              "[1, 2, 3, 'shweta']"
            ]
          },
          "metadata": {},
          "execution_count": 19
        }
      ]
    },
    {
      "cell_type": "code",
      "source": [
        "#dictionary\n",
        "Dict={\"empl1\":123,\"empl2\":456}\n",
        "Dict[\"emple3\"]=678\n",
        "Dict"
      ],
      "metadata": {
        "colab": {
          "base_uri": "https://localhost:8080/"
        },
        "id": "vAxS2xvNE0T5",
        "outputId": "b96026a4-7463-4b1b-979f-7f8b708e98c5"
      },
      "execution_count": 20,
      "outputs": [
        {
          "output_type": "execute_result",
          "data": {
            "text/plain": [
              "{'empl1': 123, 'empl2': 456, 'emple3': 678}"
            ]
          },
          "metadata": {},
          "execution_count": 20
        }
      ]
    },
    {
      "cell_type": "code",
      "source": [
        "#SET\n",
        "my_set={1,1,3,4,\"shweta\"}\n",
        "my_set.add(\"shivam\")\n",
        "my_set"
      ],
      "metadata": {
        "colab": {
          "base_uri": "https://localhost:8080/"
        },
        "id": "ygyu1Nx1Ghzo",
        "outputId": "34742d67-9268-47d4-abb9-9e840d1b34f2"
      },
      "execution_count": 21,
      "outputs": [
        {
          "output_type": "execute_result",
          "data": {
            "text/plain": [
              "{1, 3, 4, 'shivam', 'shweta'}"
            ]
          },
          "metadata": {},
          "execution_count": 21
        }
      ]
    },
    {
      "cell_type": "code",
      "source": [
        "#IMMUTABLE\n",
        "#INTEGER\n",
        "my_int = 5\n",
        "#my_int=6 is a reassignment,not a modification\n",
        "my_int"
      ],
      "metadata": {
        "colab": {
          "base_uri": "https://localhost:8080/"
        },
        "id": "hUeNBgshHFjp",
        "outputId": "7dd48971-4d3c-42bc-aa53-a0c8c6fbda12"
      },
      "execution_count": 22,
      "outputs": [
        {
          "output_type": "execute_result",
          "data": {
            "text/plain": [
              "5"
            ]
          },
          "metadata": {},
          "execution_count": 22
        }
      ]
    },
    {
      "cell_type": "code",
      "source": [
        "#string\n",
        "name=\"Ansh\"\n",
        "new_name =name.replace(\"n\",\"u\")\n",
        "print(name)\n",
        "print(new_name)"
      ],
      "metadata": {
        "colab": {
          "base_uri": "https://localhost:8080/"
        },
        "id": "XEHl39kdHovC",
        "outputId": "ec01e26b-5705-4e21-d836-c9f65db5410c"
      },
      "execution_count": 23,
      "outputs": [
        {
          "output_type": "stream",
          "name": "stdout",
          "text": [
            "Ansh\n",
            "Aush\n"
          ]
        }
      ]
    },
    {
      "cell_type": "code",
      "source": [
        "#tuple\n",
        "my_tuple = (1,2,3,4,5)\n",
        "new_tuple=my_tuple +(6,7,8)\n",
        "print(my_tuple)\n",
        "print(new_tuple)"
      ],
      "metadata": {
        "colab": {
          "base_uri": "https://localhost:8080/"
        },
        "id": "wUJnyij0IQg6",
        "outputId": "ab1fd674-2978-4ea1-c271-54d614a01835"
      },
      "execution_count": 25,
      "outputs": [
        {
          "output_type": "stream",
          "name": "stdout",
          "text": [
            "(1, 2, 3, 4, 5)\n",
            "(1, 2, 3, 4, 5, 6, 7, 8)\n"
          ]
        }
      ]
    },
    {
      "cell_type": "code",
      "source": [
        "#4th\n",
        "#different types of operators\n",
        "#Arithmetic operators\n",
        "#addition\n",
        "5+10"
      ],
      "metadata": {
        "colab": {
          "base_uri": "https://localhost:8080/"
        },
        "id": "xeSdXaOzIzFp",
        "outputId": "b6393f0d-ff81-4fec-af6f-1704e169fab7"
      },
      "execution_count": 26,
      "outputs": [
        {
          "output_type": "execute_result",
          "data": {
            "text/plain": [
              "15"
            ]
          },
          "metadata": {},
          "execution_count": 26
        }
      ]
    },
    {
      "cell_type": "code",
      "source": [
        "#subtraction\n",
        "60-45"
      ],
      "metadata": {
        "colab": {
          "base_uri": "https://localhost:8080/"
        },
        "id": "gHU0b5EwKHIa",
        "outputId": "e29fba7e-ad94-42f3-b9de-c6c0979624dd"
      },
      "execution_count": 27,
      "outputs": [
        {
          "output_type": "execute_result",
          "data": {
            "text/plain": [
              "15"
            ]
          },
          "metadata": {},
          "execution_count": 27
        }
      ]
    },
    {
      "cell_type": "code",
      "source": [
        "#multiplication\n",
        "40*5"
      ],
      "metadata": {
        "colab": {
          "base_uri": "https://localhost:8080/"
        },
        "id": "osrqnkNaKO6C",
        "outputId": "3a190472-5de7-4de4-9853-4fd24943a2d6"
      },
      "execution_count": 28,
      "outputs": [
        {
          "output_type": "execute_result",
          "data": {
            "text/plain": [
              "200"
            ]
          },
          "metadata": {},
          "execution_count": 28
        }
      ]
    },
    {
      "cell_type": "code",
      "source": [
        "#assignment operators\n",
        "x=79\n",
        "x"
      ],
      "metadata": {
        "colab": {
          "base_uri": "https://localhost:8080/"
        },
        "id": "FAOOdoJ_KXFi",
        "outputId": "adcffe17-780d-4190-ac27-d7f5be3df5b1"
      },
      "execution_count": 29,
      "outputs": [
        {
          "output_type": "execute_result",
          "data": {
            "text/plain": [
              "79"
            ]
          },
          "metadata": {},
          "execution_count": 29
        }
      ]
    },
    {
      "cell_type": "code",
      "source": [
        "x *=3\n",
        "x"
      ],
      "metadata": {
        "colab": {
          "base_uri": "https://localhost:8080/"
        },
        "id": "-2MSWncuKk-C",
        "outputId": "64b347a4-b4a7-488e-b220-7e0e8a2d46e8"
      },
      "execution_count": 31,
      "outputs": [
        {
          "output_type": "execute_result",
          "data": {
            "text/plain": [
              "711"
            ]
          },
          "metadata": {},
          "execution_count": 31
        }
      ]
    },
    {
      "cell_type": "code",
      "source": [
        "x >>=60\n",
        "x"
      ],
      "metadata": {
        "colab": {
          "base_uri": "https://localhost:8080/"
        },
        "id": "XwFbvT4VKvAa",
        "outputId": "d22d0589-62de-410f-c3a7-82a33b59f607"
      },
      "execution_count": 32,
      "outputs": [
        {
          "output_type": "execute_result",
          "data": {
            "text/plain": [
              "0"
            ]
          },
          "metadata": {},
          "execution_count": 32
        }
      ]
    },
    {
      "cell_type": "code",
      "source": [
        "#comparison operators\n",
        "x=5\n",
        "y=6\n",
        "print(x==y)"
      ],
      "metadata": {
        "colab": {
          "base_uri": "https://localhost:8080/"
        },
        "id": "78vwgSMFK3e6",
        "outputId": "6e73f613-1a42-4cce-e6e1-7336fc059346"
      },
      "execution_count": 33,
      "outputs": [
        {
          "output_type": "stream",
          "name": "stdout",
          "text": [
            "False\n"
          ]
        }
      ]
    },
    {
      "cell_type": "code",
      "source": [
        "x<=y"
      ],
      "metadata": {
        "colab": {
          "base_uri": "https://localhost:8080/"
        },
        "id": "ok11I5QHLEx6",
        "outputId": "3342f995-e82e-4b65-cdd7-d852b2e98d8f"
      },
      "execution_count": 34,
      "outputs": [
        {
          "output_type": "execute_result",
          "data": {
            "text/plain": [
              "True"
            ]
          },
          "metadata": {},
          "execution_count": 34
        }
      ]
    },
    {
      "cell_type": "code",
      "source": [
        "#logical\n",
        "x=5\n",
        "print(x>4 and x<10)"
      ],
      "metadata": {
        "colab": {
          "base_uri": "https://localhost:8080/"
        },
        "id": "PIkVkohHLK97",
        "outputId": "c1055d16-96af-4f39-f0f0-f7d30bdb2a01"
      },
      "execution_count": 36,
      "outputs": [
        {
          "output_type": "stream",
          "name": "stdout",
          "text": [
            "True\n"
          ]
        }
      ]
    },
    {
      "cell_type": "code",
      "source": [
        "#TYPE CASTING\n",
        "#CONVERTING FLOAT TO INTEGER\n",
        "X=5.89\n",
        "type(x)"
      ],
      "metadata": {
        "colab": {
          "base_uri": "https://localhost:8080/"
        },
        "id": "zssnVJ-iLhiy",
        "outputId": "d47e8882-9ccb-4b39-9b5b-acb48d5ae353"
      },
      "execution_count": 38,
      "outputs": [
        {
          "output_type": "execute_result",
          "data": {
            "text/plain": [
              "int"
            ]
          },
          "metadata": {},
          "execution_count": 38
        }
      ]
    },
    {
      "cell_type": "code",
      "source": [
        "y=int(x)\n",
        "y"
      ],
      "metadata": {
        "colab": {
          "base_uri": "https://localhost:8080/"
        },
        "id": "LszaJhEqMUtC",
        "outputId": "40577831-1c4d-4f83-a12b-0b19dd29d27e"
      },
      "execution_count": 40,
      "outputs": [
        {
          "output_type": "execute_result",
          "data": {
            "text/plain": [
              "5"
            ]
          },
          "metadata": {},
          "execution_count": 40
        }
      ]
    },
    {
      "cell_type": "code",
      "source": [
        "type(y)"
      ],
      "metadata": {
        "colab": {
          "base_uri": "https://localhost:8080/"
        },
        "id": "fclieA-4MmMK",
        "outputId": "d15e531b-03b1-4fc1-851b-f9c20edf22c7"
      },
      "execution_count": 42,
      "outputs": [
        {
          "output_type": "execute_result",
          "data": {
            "text/plain": [
              "int"
            ]
          },
          "metadata": {},
          "execution_count": 42
        }
      ]
    },
    {
      "cell_type": "code",
      "source": [
        "#string to integer\n",
        "s=\"234\"\n",
        "z=int(s)\n",
        "z"
      ],
      "metadata": {
        "colab": {
          "base_uri": "https://localhost:8080/"
        },
        "id": "_CSfBronMt0a",
        "outputId": "db494e21-fb4d-4563-a22c-0f5738262c14"
      },
      "execution_count": 43,
      "outputs": [
        {
          "output_type": "execute_result",
          "data": {
            "text/plain": [
              "234"
            ]
          },
          "metadata": {},
          "execution_count": 43
        }
      ]
    },
    {
      "cell_type": "code",
      "source": [
        "#integer to string\n",
        "a=\"10\"\n",
        "s=int(a)\n",
        "s"
      ],
      "metadata": {
        "colab": {
          "base_uri": "https://localhost:8080/"
        },
        "id": "n6u4zeYyM7eq",
        "outputId": "b6e1761b-a8b0-4b5c-db93-1614be7ab570"
      },
      "execution_count": 45,
      "outputs": [
        {
          "output_type": "execute_result",
          "data": {
            "text/plain": [
              "10"
            ]
          },
          "metadata": {},
          "execution_count": 45
        }
      ]
    },
    {
      "cell_type": "code",
      "source": [
        "#CONDITIONAL STATEMENTS\n",
        "#if,elif,else\n",
        "age =18\n",
        "if age >=18:\n",
        "  print(\"u are eligible for voting\")\n",
        "elif age==18:\n",
        "  print(\"u are voting 1st time\")\n",
        "else:\n",
        "  print(\"u r n adult\")"
      ],
      "metadata": {
        "colab": {
          "base_uri": "https://localhost:8080/"
        },
        "id": "F7GCAVucNOaD",
        "outputId": "c5aa2b5a-9f11-44bf-eaeb-629d611d1d7f"
      },
      "execution_count": 46,
      "outputs": [
        {
          "output_type": "stream",
          "name": "stdout",
          "text": [
            "u are eligible for voting\n"
          ]
        }
      ]
    },
    {
      "cell_type": "code",
      "source": [
        "age =2\n",
        "if age >=18:\n",
        "  print(\"u are eligible for voting\")\n",
        "elif age==18:\n",
        "  print(\"u are voting 1st time\")\n",
        "else:\n",
        "  print(\"pahle bade ho jao\")"
      ],
      "metadata": {
        "colab": {
          "base_uri": "https://localhost:8080/"
        },
        "id": "ZQN9Onp-OpCq",
        "outputId": "7da812bb-5e47-407b-9feb-c1457bca252d"
      },
      "execution_count": 48,
      "outputs": [
        {
          "output_type": "stream",
          "name": "stdout",
          "text": [
            "pahle bade ho jao\n"
          ]
        }
      ]
    },
    {
      "cell_type": "code",
      "source": [
        "age =35\n",
        "if age >=18:\n",
        "  print(\"u are eligible for voting\")\n",
        "elif age==18:\n",
        "  print(\"u are voting 1st time\")\n",
        "else:\n",
        "  print(\"u r n adult\")"
      ],
      "metadata": {
        "colab": {
          "base_uri": "https://localhost:8080/"
        },
        "id": "PwUx0jAIO1Cm",
        "outputId": "d77d5dc0-3fdc-4b12-c753-74c8fe295ccf"
      },
      "execution_count": 49,
      "outputs": [
        {
          "output_type": "stream",
          "name": "stdout",
          "text": [
            "u are eligible for voting\n"
          ]
        }
      ]
    },
    {
      "cell_type": "code",
      "source": [
        "#loop\n",
        "#for loop\n",
        "for i in range(0,9):\n",
        "  print(i)"
      ],
      "metadata": {
        "colab": {
          "base_uri": "https://localhost:8080/"
        },
        "id": "Y2-ZNhxBPFMi",
        "outputId": "dc549168-1754-4fe4-b294-46e5629b6cb5"
      },
      "execution_count": 50,
      "outputs": [
        {
          "output_type": "stream",
          "name": "stdout",
          "text": [
            "0\n",
            "1\n",
            "2\n",
            "3\n",
            "4\n",
            "5\n",
            "6\n",
            "7\n",
            "8\n"
          ]
        }
      ]
    },
    {
      "cell_type": "code",
      "source": [
        "for char in \"shweta\":\n",
        "  print(char)"
      ],
      "metadata": {
        "colab": {
          "base_uri": "https://localhost:8080/"
        },
        "id": "kODDmXp0PgEj",
        "outputId": "f57de4f2-f574-4f52-b6f7-dad6f09c73d4"
      },
      "execution_count": 55,
      "outputs": [
        {
          "output_type": "stream",
          "name": "stdout",
          "text": [
            "s\n",
            "h\n",
            "w\n",
            "e\n",
            "t\n",
            "a\n"
          ]
        }
      ]
    },
    {
      "cell_type": "code",
      "source": [
        "#WHILE LOOP\n",
        "i=0\n",
        "while i<10:\n",
        "  print(i)\n",
        "  i+= 1"
      ],
      "metadata": {
        "colab": {
          "base_uri": "https://localhost:8080/"
        },
        "id": "EgBrniprPqBq",
        "outputId": "948be8d4-5100-4e5e-eaa9-f99783206982"
      },
      "execution_count": 56,
      "outputs": [
        {
          "output_type": "stream",
          "name": "stdout",
          "text": [
            "0\n",
            "1\n",
            "2\n",
            "3\n",
            "4\n",
            "5\n",
            "6\n",
            "7\n",
            "8\n",
            "9\n"
          ]
        }
      ]
    },
    {
      "cell_type": "code",
      "source": [],
      "metadata": {
        "id": "Ip-hxNC0QN4j"
      },
      "execution_count": null,
      "outputs": []
    }
  ]
}